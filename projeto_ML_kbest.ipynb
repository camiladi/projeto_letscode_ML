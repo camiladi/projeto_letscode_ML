{
 "cells": [
  {
   "cell_type": "code",
   "execution_count": 1,
   "metadata": {},
   "outputs": [
    {
     "name": "stderr",
     "output_type": "stream",
     "text": [
      "/home/camila/anaconda3/lib/python3.7/site-packages/statsmodels/tools/_testing.py:19: FutureWarning: pandas.util.testing is deprecated. Use the functions in the public API at pandas.testing instead.\n",
      "  import pandas.util.testing as tm\n"
     ]
    }
   ],
   "source": [
    "import pandas as pd\n",
    "import numpy as np\n",
    "import matplotlib.pyplot as plt\n",
    "import seaborn as sns"
   ]
  },
  {
   "cell_type": "code",
   "execution_count": 2,
   "metadata": {},
   "outputs": [],
   "source": [
    "df_treino = pd.read_pickle('treino.gz')"
   ]
  },
  {
   "cell_type": "code",
   "execution_count": 3,
   "metadata": {},
   "outputs": [],
   "source": [
    "#df_treino.info()"
   ]
  },
  {
   "cell_type": "code",
   "execution_count": 4,
   "metadata": {},
   "outputs": [],
   "source": [
    "df = df_treino.copy()"
   ]
  },
  {
   "cell_type": "code",
   "execution_count": 5,
   "metadata": {},
   "outputs": [
    {
     "data": {
      "text/html": [
       "<div>\n",
       "<style scoped>\n",
       "    .dataframe tbody tr th:only-of-type {\n",
       "        vertical-align: middle;\n",
       "    }\n",
       "\n",
       "    .dataframe tbody tr th {\n",
       "        vertical-align: top;\n",
       "    }\n",
       "\n",
       "    .dataframe thead th {\n",
       "        text-align: right;\n",
       "    }\n",
       "</style>\n",
       "<table border=\"1\" class=\"dataframe\">\n",
       "  <thead>\n",
       "    <tr style=\"text-align: right;\">\n",
       "      <th></th>\n",
       "      <th>id_pessoa</th>\n",
       "      <th>valor_emprestimo</th>\n",
       "      <th>custo_ativo</th>\n",
       "      <th>emprestimo_custo</th>\n",
       "      <th>agencia</th>\n",
       "      <th>revendedora</th>\n",
       "      <th>montadora</th>\n",
       "      <th>Current_pincode_ID</th>\n",
       "      <th>nascimento</th>\n",
       "      <th>emprego</th>\n",
       "      <th>...</th>\n",
       "      <th>sec_emp_san</th>\n",
       "      <th>sec_emp_tom</th>\n",
       "      <th>par_pri_emp</th>\n",
       "      <th>par_seg_emp</th>\n",
       "      <th>nov_emp_6m</th>\n",
       "      <th>def_emp_6m</th>\n",
       "      <th>tem_med_emp</th>\n",
       "      <th>tem_pri_emp</th>\n",
       "      <th>qtd_sol_emp</th>\n",
       "      <th>default</th>\n",
       "    </tr>\n",
       "  </thead>\n",
       "  <tbody>\n",
       "    <tr>\n",
       "      <th>155653</th>\n",
       "      <td>487469</td>\n",
       "      <td>63418</td>\n",
       "      <td>75571</td>\n",
       "      <td>85.00</td>\n",
       "      <td>136</td>\n",
       "      <td>14189</td>\n",
       "      <td>86</td>\n",
       "      <td>3783</td>\n",
       "      <td>10-05-76</td>\n",
       "      <td>Salaried</td>\n",
       "      <td>...</td>\n",
       "      <td>0</td>\n",
       "      <td>0</td>\n",
       "      <td>3746800</td>\n",
       "      <td>0</td>\n",
       "      <td>3</td>\n",
       "      <td>0</td>\n",
       "      <td>0yrs 8mon</td>\n",
       "      <td>5yrs 5mon</td>\n",
       "      <td>0</td>\n",
       "      <td>0</td>\n",
       "    </tr>\n",
       "    <tr>\n",
       "      <th>98628</th>\n",
       "      <td>627194</td>\n",
       "      <td>42494</td>\n",
       "      <td>69042</td>\n",
       "      <td>65.18</td>\n",
       "      <td>1</td>\n",
       "      <td>22056</td>\n",
       "      <td>45</td>\n",
       "      <td>4923</td>\n",
       "      <td>05-02-97</td>\n",
       "      <td>Self employed</td>\n",
       "      <td>...</td>\n",
       "      <td>0</td>\n",
       "      <td>0</td>\n",
       "      <td>0</td>\n",
       "      <td>0</td>\n",
       "      <td>0</td>\n",
       "      <td>0</td>\n",
       "      <td>1yrs 1mon</td>\n",
       "      <td>1yrs 1mon</td>\n",
       "      <td>0</td>\n",
       "      <td>0</td>\n",
       "    </tr>\n",
       "    <tr>\n",
       "      <th>132937</th>\n",
       "      <td>636647</td>\n",
       "      <td>56909</td>\n",
       "      <td>69407</td>\n",
       "      <td>84.86</td>\n",
       "      <td>5</td>\n",
       "      <td>17980</td>\n",
       "      <td>86</td>\n",
       "      <td>3396</td>\n",
       "      <td>06-05-83</td>\n",
       "      <td>Salaried</td>\n",
       "      <td>...</td>\n",
       "      <td>0</td>\n",
       "      <td>0</td>\n",
       "      <td>0</td>\n",
       "      <td>0</td>\n",
       "      <td>4</td>\n",
       "      <td>0</td>\n",
       "      <td>0yrs 5mon</td>\n",
       "      <td>1yrs 4mon</td>\n",
       "      <td>0</td>\n",
       "      <td>0</td>\n",
       "    </tr>\n",
       "    <tr>\n",
       "      <th>29031</th>\n",
       "      <td>518430</td>\n",
       "      <td>69488</td>\n",
       "      <td>82782</td>\n",
       "      <td>85.00</td>\n",
       "      <td>19</td>\n",
       "      <td>14375</td>\n",
       "      <td>86</td>\n",
       "      <td>1838</td>\n",
       "      <td>07-01-83</td>\n",
       "      <td>Self employed</td>\n",
       "      <td>...</td>\n",
       "      <td>0</td>\n",
       "      <td>0</td>\n",
       "      <td>11840</td>\n",
       "      <td>0</td>\n",
       "      <td>2</td>\n",
       "      <td>0</td>\n",
       "      <td>1yrs 1mon</td>\n",
       "      <td>3yrs 1mon</td>\n",
       "      <td>7</td>\n",
       "      <td>0</td>\n",
       "    </tr>\n",
       "    <tr>\n",
       "      <th>67486</th>\n",
       "      <td>577759</td>\n",
       "      <td>54963</td>\n",
       "      <td>66783</td>\n",
       "      <td>84.90</td>\n",
       "      <td>74</td>\n",
       "      <td>22928</td>\n",
       "      <td>86</td>\n",
       "      <td>2578</td>\n",
       "      <td>01-01-94</td>\n",
       "      <td>Salaried</td>\n",
       "      <td>...</td>\n",
       "      <td>0</td>\n",
       "      <td>0</td>\n",
       "      <td>2658</td>\n",
       "      <td>0</td>\n",
       "      <td>0</td>\n",
       "      <td>0</td>\n",
       "      <td>0yrs 10mon</td>\n",
       "      <td>1yrs 4mon</td>\n",
       "      <td>0</td>\n",
       "      <td>0</td>\n",
       "    </tr>\n",
       "  </tbody>\n",
       "</table>\n",
       "<p>5 rows × 41 columns</p>\n",
       "</div>"
      ],
      "text/plain": [
       "        id_pessoa  valor_emprestimo  custo_ativo  emprestimo_custo  agencia  \\\n",
       "155653     487469             63418        75571             85.00      136   \n",
       "98628      627194             42494        69042             65.18        1   \n",
       "132937     636647             56909        69407             84.86        5   \n",
       "29031      518430             69488        82782             85.00       19   \n",
       "67486      577759             54963        66783             84.90       74   \n",
       "\n",
       "        revendedora  montadora  Current_pincode_ID nascimento        emprego  \\\n",
       "155653        14189         86                3783   10-05-76       Salaried   \n",
       "98628         22056         45                4923   05-02-97  Self employed   \n",
       "132937        17980         86                3396   06-05-83       Salaried   \n",
       "29031         14375         86                1838   07-01-83  Self employed   \n",
       "67486         22928         86                2578   01-01-94       Salaried   \n",
       "\n",
       "        ... sec_emp_san  sec_emp_tom  par_pri_emp  par_seg_emp  nov_emp_6m  \\\n",
       "155653  ...           0            0      3746800            0           3   \n",
       "98628   ...           0            0            0            0           0   \n",
       "132937  ...           0            0            0            0           4   \n",
       "29031   ...           0            0        11840            0           2   \n",
       "67486   ...           0            0         2658            0           0   \n",
       "\n",
       "        def_emp_6m  tem_med_emp  tem_pri_emp  qtd_sol_emp  default  \n",
       "155653           0    0yrs 8mon    5yrs 5mon            0        0  \n",
       "98628            0    1yrs 1mon    1yrs 1mon            0        0  \n",
       "132937           0    0yrs 5mon    1yrs 4mon            0        0  \n",
       "29031            0    1yrs 1mon    3yrs 1mon            7        0  \n",
       "67486            0   0yrs 10mon    1yrs 4mon            0        0  \n",
       "\n",
       "[5 rows x 41 columns]"
      ]
     },
     "execution_count": 5,
     "metadata": {},
     "output_type": "execute_result"
    }
   ],
   "source": [
    "df.head()"
   ]
  },
  {
   "cell_type": "markdown",
   "metadata": {},
   "source": [
    "### Manipulação das variáveis com datas (tem_pri_emp e tem_med_emp)"
   ]
  },
  {
   "cell_type": "code",
   "execution_count": 6,
   "metadata": {},
   "outputs": [],
   "source": [
    "def duration_in_month(dataframe, column):\n",
    "\n",
    "    dur_in_month = []\n",
    "\n",
    "    for lista_aux in dataframe[column].str.split(' '):\n",
    "\n",
    "        year = lista_aux[0]\n",
    "        month = lista_aux[1]\n",
    "\n",
    "        year_num = year.split('y')[0]\n",
    "        month_num = month.split('m')[0]\n",
    "\n",
    "        dur = int(year_num)*12 + int(month_num)\n",
    "        \n",
    "        dur_in_month.append(dur)\n",
    "                    \n",
    "    return dur_in_month"
   ]
  },
  {
   "cell_type": "code",
   "execution_count": 7,
   "metadata": {},
   "outputs": [],
   "source": [
    "tem_med_emp_month = duration_in_month(df,'tem_med_emp')\n",
    "tem_pri_emp_month = duration_in_month(df,'tem_pri_emp')\n",
    "\n",
    "df = df.drop(columns = ['tem_med_emp','tem_pri_emp'])\n",
    "\n",
    "df['tem_med_emp'] = tem_med_emp_month\n",
    "df['tem_pri_emp'] = tem_pri_emp_month"
   ]
  },
  {
   "cell_type": "markdown",
   "metadata": {},
   "source": [
    "### Manipulando emprego"
   ]
  },
  {
   "cell_type": "code",
   "execution_count": 8,
   "metadata": {},
   "outputs": [
    {
     "data": {
      "text/plain": [
       "Self employed    102028\n",
       "Salaried          78348\n",
       "Name: emprego, dtype: int64"
      ]
     },
     "execution_count": 8,
     "metadata": {},
     "output_type": "execute_result"
    }
   ],
   "source": [
    "df['emprego'].value_counts()"
   ]
  },
  {
   "cell_type": "code",
   "execution_count": 9,
   "metadata": {},
   "outputs": [],
   "source": [
    "def transforma_emprego(valor):\n",
    "    \n",
    "    if valor == 'Self employed':\n",
    "        return 0\n",
    "    elif valor == 'Salaried':\n",
    "        return 1\n",
    "    else:\n",
    "        return 2"
   ]
  },
  {
   "cell_type": "code",
   "execution_count": 10,
   "metadata": {},
   "outputs": [],
   "source": [
    "df.emprego = df.emprego.apply(transforma_emprego)"
   ]
  },
  {
   "cell_type": "code",
   "execution_count": 11,
   "metadata": {},
   "outputs": [
    {
     "data": {
      "text/plain": [
       "0    102028\n",
       "1     78348\n",
       "2      6147\n",
       "Name: emprego, dtype: int64"
      ]
     },
     "execution_count": 11,
     "metadata": {},
     "output_type": "execute_result"
    }
   ],
   "source": [
    "df.emprego.value_counts()"
   ]
  },
  {
   "cell_type": "code",
   "execution_count": 12,
   "metadata": {},
   "outputs": [
    {
     "data": {
      "text/plain": [
       "186523"
      ]
     },
     "execution_count": 12,
     "metadata": {},
     "output_type": "execute_result"
    }
   ],
   "source": [
    "#checando a coluna [score_desc]\n",
    "\n",
    "score_desc = df['score_desc'].values.tolist()\n",
    "len(score_desc)"
   ]
  },
  {
   "cell_type": "code",
   "execution_count": 13,
   "metadata": {},
   "outputs": [
    {
     "data": {
      "text/plain": [
       "No Bureau History Available                                93698\n",
       "C-Very Low Risk                                            12838\n",
       "A-Very Low Risk                                            11278\n",
       "D-Very Low Risk                                             9093\n",
       "B-Very Low Risk                                             7332\n",
       "M-Very High Risk                                            7064\n",
       "F-Low Risk                                                  6847\n",
       "K-High Risk                                                 6566\n",
       "H-Medium Risk                                               5449\n",
       "E-Low Risk                                                  4628\n",
       "I-Medium Risk                                               4353\n",
       "G-Low Risk                                                  3201\n",
       "J-High Risk                                                 3005\n",
       "Not Scored: Sufficient History Not Available                3000\n",
       "Not Scored: Not Enough Info available on the customer       2926\n",
       "Not Scored: No Activity seen on the customer (Inactive)     2318\n",
       "Not Scored: No Updates available in last 36 months          1250\n",
       "L-Very High Risk                                             907\n",
       "Not Scored: Only a Guarantor                                 767\n",
       "Not Scored: More than 50 active Accounts found                 3\n",
       "Name: score_desc, dtype: int64"
      ]
     },
     "execution_count": 13,
     "metadata": {},
     "output_type": "execute_result"
    }
   ],
   "source": [
    "df['score_desc'].value_counts()"
   ]
  },
  {
   "cell_type": "code",
   "execution_count": 14,
   "metadata": {},
   "outputs": [
    {
     "name": "stdout",
     "output_type": "stream",
     "text": [
      "186523\n"
     ]
    }
   ],
   "source": [
    "lista_score_cod = []\n",
    "\n",
    "for elemento in score_desc:\n",
    "    if elemento[0] == 'A':\n",
    "        cod = 14\n",
    "    elif elemento[0] == 'B':\n",
    "        cod = 13\n",
    "    elif elemento[0] == 'C':\n",
    "        cod = 12\n",
    "    elif elemento[0] == 'D':\n",
    "        cod = 11\n",
    "    elif elemento[0] == 'E':\n",
    "        cod = 10\n",
    "    elif elemento[0] == 'F':\n",
    "        cod = 9\n",
    "    elif elemento[0] == 'G':\n",
    "        cod = 8\n",
    "    elif elemento[0] == 'H':\n",
    "        cod = 7\n",
    "    elif elemento[0] == 'I':\n",
    "        cod = 6\n",
    "    elif elemento[0] == 'J':\n",
    "        cod = 5\n",
    "    elif elemento[0] == 'K':\n",
    "        cod = 4\n",
    "    elif elemento[0] == 'L':\n",
    "        cod = 3\n",
    "    elif elemento[0] == 'M':\n",
    "        cod = 2\n",
    "    elif elemento[0:3] == 'Not': \n",
    "        cod = 1\n",
    "    else:\n",
    "        cod = 0\n",
    "    \n",
    "    lista_score_cod.append(cod)\n",
    "\n",
    "print(len(lista_score_cod))"
   ]
  },
  {
   "cell_type": "code",
   "execution_count": 15,
   "metadata": {},
   "outputs": [],
   "source": [
    "df.insert(21, \"score_cod\", lista_score_cod)"
   ]
  },
  {
   "cell_type": "code",
   "execution_count": 16,
   "metadata": {},
   "outputs": [],
   "source": [
    "df = df.drop(['score_desc'], axis = 1)"
   ]
  },
  {
   "cell_type": "code",
   "execution_count": 17,
   "metadata": {},
   "outputs": [
    {
     "data": {
      "text/plain": [
       "0     93698\n",
       "12    12838\n",
       "14    11278\n",
       "1     10264\n",
       "11     9093\n",
       "13     7332\n",
       "2      7064\n",
       "9      6847\n",
       "4      6566\n",
       "7      5449\n",
       "10     4628\n",
       "6      4353\n",
       "8      3201\n",
       "5      3005\n",
       "3       907\n",
       "Name: score_cod, dtype: int64"
      ]
     },
     "execution_count": 17,
     "metadata": {},
     "output_type": "execute_result"
    }
   ],
   "source": [
    "df['score_cod'].value_counts()"
   ]
  },
  {
   "cell_type": "markdown",
   "metadata": {},
   "source": [
    "### removendo flags e variáveis que não acrescentam informações ou que podem haver conflitos éticos, como:"
   ]
  },
  {
   "cell_type": "code",
   "execution_count": 18,
   "metadata": {},
   "outputs": [],
   "source": [
    "\n",
    "\n",
    "clns=['agencia','revendedora','montadora','Current_pincode_ID','nascimento','funcionario',\n",
    "      'flag_telefone','flag_aadhar','flag_pan','flag_eleitor','flag_cmotorista',\n",
    "      'flag_passaporte','data_contrato']\n",
    "\n",
    "df = df.drop(columns = clns)"
   ]
  },
  {
   "cell_type": "code",
   "execution_count": 19,
   "metadata": {},
   "outputs": [
    {
     "data": {
      "text/plain": [
       "(186523, 28)"
      ]
     },
     "execution_count": 19,
     "metadata": {},
     "output_type": "execute_result"
    }
   ],
   "source": [
    "df.shape"
   ]
  },
  {
   "cell_type": "code",
   "execution_count": 20,
   "metadata": {},
   "outputs": [
    {
     "data": {
      "text/plain": [
       "(41, 28)"
      ]
     },
     "execution_count": 20,
     "metadata": {},
     "output_type": "execute_result"
    }
   ],
   "source": [
    "df.loc[df['sec_emp_abt']<0].shape"
   ]
  },
  {
   "cell_type": "markdown",
   "metadata": {},
   "source": [
    "### São 41 linhas de \"sec_emp_abt\" com valores negativos, não representa nem 1% --> drop"
   ]
  },
  {
   "cell_type": "code",
   "execution_count": 21,
   "metadata": {},
   "outputs": [],
   "source": [
    "df = df.drop(df.loc[df['sec_emp_abt']<0].index)"
   ]
  },
  {
   "cell_type": "code",
   "execution_count": 22,
   "metadata": {},
   "outputs": [
    {
     "data": {
      "text/plain": [
       "(362, 28)"
      ]
     },
     "execution_count": 22,
     "metadata": {},
     "output_type": "execute_result"
    }
   ],
   "source": [
    "df.loc[df['pri_emp_abt']<0].shape"
   ]
  },
  {
   "cell_type": "markdown",
   "metadata": {},
   "source": [
    "### São 362 linhas de \"pri_emp_abt\" com valores negativos, não representa nem 1% --> drop"
   ]
  },
  {
   "cell_type": "code",
   "execution_count": 23,
   "metadata": {},
   "outputs": [],
   "source": [
    "df = df.drop(df.loc[df['pri_emp_abt']<0].index)"
   ]
  },
  {
   "cell_type": "code",
   "execution_count": 24,
   "metadata": {},
   "outputs": [
    {
     "data": {
      "text/plain": [
       "(186120, 28)"
      ]
     },
     "execution_count": 24,
     "metadata": {},
     "output_type": "execute_result"
    }
   ],
   "source": [
    "df.shape"
   ]
  },
  {
   "cell_type": "markdown",
   "metadata": {},
   "source": [
    "### Estatística descritiva básica do dataframe"
   ]
  },
  {
   "cell_type": "code",
   "execution_count": 25,
   "metadata": {},
   "outputs": [
    {
     "data": {
      "text/html": [
       "<div>\n",
       "<style scoped>\n",
       "    .dataframe tbody tr th:only-of-type {\n",
       "        vertical-align: middle;\n",
       "    }\n",
       "\n",
       "    .dataframe tbody tr th {\n",
       "        vertical-align: top;\n",
       "    }\n",
       "\n",
       "    .dataframe thead th {\n",
       "        text-align: right;\n",
       "    }\n",
       "</style>\n",
       "<table border=\"1\" class=\"dataframe\">\n",
       "  <thead>\n",
       "    <tr style=\"text-align: right;\">\n",
       "      <th></th>\n",
       "      <th>count</th>\n",
       "      <th>mean</th>\n",
       "      <th>std</th>\n",
       "      <th>min</th>\n",
       "      <th>25%</th>\n",
       "      <th>50%</th>\n",
       "      <th>75%</th>\n",
       "      <th>max</th>\n",
       "    </tr>\n",
       "  </thead>\n",
       "  <tbody>\n",
       "    <tr>\n",
       "      <th>id_pessoa</th>\n",
       "      <td>186120.0</td>\n",
       "      <td>535876.241522</td>\n",
       "      <td>6.833148e+04</td>\n",
       "      <td>417428.00</td>\n",
       "      <td>476780.75</td>\n",
       "      <td>535882.5</td>\n",
       "      <td>594991.25</td>\n",
       "      <td>6.710840e+05</td>\n",
       "    </tr>\n",
       "    <tr>\n",
       "      <th>valor_emprestimo</th>\n",
       "      <td>186120.0</td>\n",
       "      <td>54357.533269</td>\n",
       "      <td>1.302550e+04</td>\n",
       "      <td>13320.00</td>\n",
       "      <td>47145.00</td>\n",
       "      <td>53803.0</td>\n",
       "      <td>60410.00</td>\n",
       "      <td>9.905720e+05</td>\n",
       "    </tr>\n",
       "    <tr>\n",
       "      <th>custo_ativo</th>\n",
       "      <td>186120.0</td>\n",
       "      <td>75855.459875</td>\n",
       "      <td>1.905847e+04</td>\n",
       "      <td>37000.00</td>\n",
       "      <td>65718.00</td>\n",
       "      <td>70948.0</td>\n",
       "      <td>79183.00</td>\n",
       "      <td>1.628992e+06</td>\n",
       "    </tr>\n",
       "    <tr>\n",
       "      <th>emprestimo_custo</th>\n",
       "      <td>186120.0</td>\n",
       "      <td>74.757411</td>\n",
       "      <td>1.142738e+01</td>\n",
       "      <td>14.17</td>\n",
       "      <td>68.88</td>\n",
       "      <td>76.8</td>\n",
       "      <td>83.67</td>\n",
       "      <td>9.500000e+01</td>\n",
       "    </tr>\n",
       "    <tr>\n",
       "      <th>emprego</th>\n",
       "      <td>186120.0</td>\n",
       "      <td>0.485982</td>\n",
       "      <td>5.619181e-01</td>\n",
       "      <td>0.00</td>\n",
       "      <td>0.00</td>\n",
       "      <td>0.0</td>\n",
       "      <td>1.00</td>\n",
       "      <td>2.000000e+00</td>\n",
       "    </tr>\n",
       "    <tr>\n",
       "      <th>estado</th>\n",
       "      <td>186120.0</td>\n",
       "      <td>7.260230</td>\n",
       "      <td>4.478129e+00</td>\n",
       "      <td>1.00</td>\n",
       "      <td>4.00</td>\n",
       "      <td>6.0</td>\n",
       "      <td>10.00</td>\n",
       "      <td>2.200000e+01</td>\n",
       "    </tr>\n",
       "    <tr>\n",
       "      <th>score</th>\n",
       "      <td>186120.0</td>\n",
       "      <td>288.296717</td>\n",
       "      <td>3.382268e+02</td>\n",
       "      <td>0.00</td>\n",
       "      <td>0.00</td>\n",
       "      <td>0.0</td>\n",
       "      <td>678.00</td>\n",
       "      <td>8.900000e+02</td>\n",
       "    </tr>\n",
       "    <tr>\n",
       "      <th>score_cod</th>\n",
       "      <td>186120.0</td>\n",
       "      <td>4.137890</td>\n",
       "      <td>5.209828e+00</td>\n",
       "      <td>0.00</td>\n",
       "      <td>0.00</td>\n",
       "      <td>0.0</td>\n",
       "      <td>9.00</td>\n",
       "      <td>1.400000e+01</td>\n",
       "    </tr>\n",
       "    <tr>\n",
       "      <th>pri_qtd_tot_emp</th>\n",
       "      <td>186120.0</td>\n",
       "      <td>2.430668</td>\n",
       "      <td>5.241925e+00</td>\n",
       "      <td>0.00</td>\n",
       "      <td>0.00</td>\n",
       "      <td>0.0</td>\n",
       "      <td>3.00</td>\n",
       "      <td>4.530000e+02</td>\n",
       "    </tr>\n",
       "    <tr>\n",
       "      <th>pri_qtd_tot_emp_atv</th>\n",
       "      <td>186120.0</td>\n",
       "      <td>1.034918</td>\n",
       "      <td>1.943559e+00</td>\n",
       "      <td>0.00</td>\n",
       "      <td>0.00</td>\n",
       "      <td>0.0</td>\n",
       "      <td>1.00</td>\n",
       "      <td>1.440000e+02</td>\n",
       "    </tr>\n",
       "    <tr>\n",
       "      <th>pri_qtd_tot_def</th>\n",
       "      <td>186120.0</td>\n",
       "      <td>0.155991</td>\n",
       "      <td>5.457986e-01</td>\n",
       "      <td>0.00</td>\n",
       "      <td>0.00</td>\n",
       "      <td>0.0</td>\n",
       "      <td>0.00</td>\n",
       "      <td>2.300000e+01</td>\n",
       "    </tr>\n",
       "    <tr>\n",
       "      <th>pri_emp_abt</th>\n",
       "      <td>186120.0</td>\n",
       "      <td>166572.307893</td>\n",
       "      <td>9.679504e+05</td>\n",
       "      <td>0.00</td>\n",
       "      <td>0.00</td>\n",
       "      <td>0.0</td>\n",
       "      <td>35000.00</td>\n",
       "      <td>9.652492e+07</td>\n",
       "    </tr>\n",
       "    <tr>\n",
       "      <th>pri_emp_san</th>\n",
       "      <td>186120.0</td>\n",
       "      <td>219817.481259</td>\n",
       "      <td>2.605588e+06</td>\n",
       "      <td>0.00</td>\n",
       "      <td>0.00</td>\n",
       "      <td>0.0</td>\n",
       "      <td>61990.00</td>\n",
       "      <td>1.000000e+09</td>\n",
       "    </tr>\n",
       "    <tr>\n",
       "      <th>pri_emp_tom</th>\n",
       "      <td>186120.0</td>\n",
       "      <td>219425.560294</td>\n",
       "      <td>2.608790e+06</td>\n",
       "      <td>0.00</td>\n",
       "      <td>0.00</td>\n",
       "      <td>0.0</td>\n",
       "      <td>60000.00</td>\n",
       "      <td>1.000000e+09</td>\n",
       "    </tr>\n",
       "    <tr>\n",
       "      <th>sec_qtd_tot_emp</th>\n",
       "      <td>186120.0</td>\n",
       "      <td>0.060370</td>\n",
       "      <td>6.551722e-01</td>\n",
       "      <td>0.00</td>\n",
       "      <td>0.00</td>\n",
       "      <td>0.0</td>\n",
       "      <td>0.00</td>\n",
       "      <td>5.200000e+01</td>\n",
       "    </tr>\n",
       "    <tr>\n",
       "      <th>sec_qtd_tot_emp_atv</th>\n",
       "      <td>186120.0</td>\n",
       "      <td>0.028089</td>\n",
       "      <td>3.250358e-01</td>\n",
       "      <td>0.00</td>\n",
       "      <td>0.00</td>\n",
       "      <td>0.0</td>\n",
       "      <td>0.00</td>\n",
       "      <td>3.600000e+01</td>\n",
       "    </tr>\n",
       "    <tr>\n",
       "      <th>sec_qtd_tot_def</th>\n",
       "      <td>186120.0</td>\n",
       "      <td>0.007468</td>\n",
       "      <td>1.145833e-01</td>\n",
       "      <td>0.00</td>\n",
       "      <td>0.00</td>\n",
       "      <td>0.0</td>\n",
       "      <td>0.00</td>\n",
       "      <td>8.000000e+00</td>\n",
       "    </tr>\n",
       "    <tr>\n",
       "      <th>sec_emp_abt</th>\n",
       "      <td>186120.0</td>\n",
       "      <td>5827.470288</td>\n",
       "      <td>1.849419e+05</td>\n",
       "      <td>0.00</td>\n",
       "      <td>0.00</td>\n",
       "      <td>0.0</td>\n",
       "      <td>0.00</td>\n",
       "      <td>3.603285e+07</td>\n",
       "    </tr>\n",
       "    <tr>\n",
       "      <th>sec_emp_san</th>\n",
       "      <td>186120.0</td>\n",
       "      <td>7769.268316</td>\n",
       "      <td>1.975400e+05</td>\n",
       "      <td>0.00</td>\n",
       "      <td>0.00</td>\n",
       "      <td>0.0</td>\n",
       "      <td>0.00</td>\n",
       "      <td>3.000000e+07</td>\n",
       "    </tr>\n",
       "    <tr>\n",
       "      <th>sec_emp_tom</th>\n",
       "      <td>186120.0</td>\n",
       "      <td>7658.038792</td>\n",
       "      <td>1.969545e+05</td>\n",
       "      <td>0.00</td>\n",
       "      <td>0.00</td>\n",
       "      <td>0.0</td>\n",
       "      <td>0.00</td>\n",
       "      <td>3.000000e+07</td>\n",
       "    </tr>\n",
       "    <tr>\n",
       "      <th>par_pri_emp</th>\n",
       "      <td>186120.0</td>\n",
       "      <td>13347.408801</td>\n",
       "      <td>1.618269e+05</td>\n",
       "      <td>0.00</td>\n",
       "      <td>0.00</td>\n",
       "      <td>0.0</td>\n",
       "      <td>1996.00</td>\n",
       "      <td>2.564281e+07</td>\n",
       "    </tr>\n",
       "    <tr>\n",
       "      <th>par_seg_emp</th>\n",
       "      <td>186120.0</td>\n",
       "      <td>339.241457</td>\n",
       "      <td>1.647105e+04</td>\n",
       "      <td>0.00</td>\n",
       "      <td>0.00</td>\n",
       "      <td>0.0</td>\n",
       "      <td>0.00</td>\n",
       "      <td>4.170901e+06</td>\n",
       "    </tr>\n",
       "    <tr>\n",
       "      <th>nov_emp_6m</th>\n",
       "      <td>186120.0</td>\n",
       "      <td>0.381689</td>\n",
       "      <td>9.583126e-01</td>\n",
       "      <td>0.00</td>\n",
       "      <td>0.00</td>\n",
       "      <td>0.0</td>\n",
       "      <td>0.00</td>\n",
       "      <td>3.500000e+01</td>\n",
       "    </tr>\n",
       "    <tr>\n",
       "      <th>def_emp_6m</th>\n",
       "      <td>186120.0</td>\n",
       "      <td>0.096932</td>\n",
       "      <td>3.836912e-01</td>\n",
       "      <td>0.00</td>\n",
       "      <td>0.00</td>\n",
       "      <td>0.0</td>\n",
       "      <td>0.00</td>\n",
       "      <td>2.000000e+01</td>\n",
       "    </tr>\n",
       "    <tr>\n",
       "      <th>qtd_sol_emp</th>\n",
       "      <td>186120.0</td>\n",
       "      <td>0.206308</td>\n",
       "      <td>7.021837e-01</td>\n",
       "      <td>0.00</td>\n",
       "      <td>0.00</td>\n",
       "      <td>0.0</td>\n",
       "      <td>0.00</td>\n",
       "      <td>3.600000e+01</td>\n",
       "    </tr>\n",
       "    <tr>\n",
       "      <th>default</th>\n",
       "      <td>186120.0</td>\n",
       "      <td>0.216570</td>\n",
       "      <td>4.119081e-01</td>\n",
       "      <td>0.00</td>\n",
       "      <td>0.00</td>\n",
       "      <td>0.0</td>\n",
       "      <td>0.00</td>\n",
       "      <td>1.000000e+00</td>\n",
       "    </tr>\n",
       "    <tr>\n",
       "      <th>tem_med_emp</th>\n",
       "      <td>186120.0</td>\n",
       "      <td>8.863035</td>\n",
       "      <td>1.506268e+01</td>\n",
       "      <td>0.00</td>\n",
       "      <td>0.00</td>\n",
       "      <td>0.0</td>\n",
       "      <td>13.00</td>\n",
       "      <td>3.690000e+02</td>\n",
       "    </tr>\n",
       "    <tr>\n",
       "      <th>tem_pri_emp</th>\n",
       "      <td>186120.0</td>\n",
       "      <td>16.157592</td>\n",
       "      <td>2.852870e+01</td>\n",
       "      <td>0.00</td>\n",
       "      <td>0.00</td>\n",
       "      <td>0.0</td>\n",
       "      <td>24.00</td>\n",
       "      <td>4.680000e+02</td>\n",
       "    </tr>\n",
       "  </tbody>\n",
       "</table>\n",
       "</div>"
      ],
      "text/plain": [
       "                        count           mean           std        min  \\\n",
       "id_pessoa            186120.0  535876.241522  6.833148e+04  417428.00   \n",
       "valor_emprestimo     186120.0   54357.533269  1.302550e+04   13320.00   \n",
       "custo_ativo          186120.0   75855.459875  1.905847e+04   37000.00   \n",
       "emprestimo_custo     186120.0      74.757411  1.142738e+01      14.17   \n",
       "emprego              186120.0       0.485982  5.619181e-01       0.00   \n",
       "estado               186120.0       7.260230  4.478129e+00       1.00   \n",
       "score                186120.0     288.296717  3.382268e+02       0.00   \n",
       "score_cod            186120.0       4.137890  5.209828e+00       0.00   \n",
       "pri_qtd_tot_emp      186120.0       2.430668  5.241925e+00       0.00   \n",
       "pri_qtd_tot_emp_atv  186120.0       1.034918  1.943559e+00       0.00   \n",
       "pri_qtd_tot_def      186120.0       0.155991  5.457986e-01       0.00   \n",
       "pri_emp_abt          186120.0  166572.307893  9.679504e+05       0.00   \n",
       "pri_emp_san          186120.0  219817.481259  2.605588e+06       0.00   \n",
       "pri_emp_tom          186120.0  219425.560294  2.608790e+06       0.00   \n",
       "sec_qtd_tot_emp      186120.0       0.060370  6.551722e-01       0.00   \n",
       "sec_qtd_tot_emp_atv  186120.0       0.028089  3.250358e-01       0.00   \n",
       "sec_qtd_tot_def      186120.0       0.007468  1.145833e-01       0.00   \n",
       "sec_emp_abt          186120.0    5827.470288  1.849419e+05       0.00   \n",
       "sec_emp_san          186120.0    7769.268316  1.975400e+05       0.00   \n",
       "sec_emp_tom          186120.0    7658.038792  1.969545e+05       0.00   \n",
       "par_pri_emp          186120.0   13347.408801  1.618269e+05       0.00   \n",
       "par_seg_emp          186120.0     339.241457  1.647105e+04       0.00   \n",
       "nov_emp_6m           186120.0       0.381689  9.583126e-01       0.00   \n",
       "def_emp_6m           186120.0       0.096932  3.836912e-01       0.00   \n",
       "qtd_sol_emp          186120.0       0.206308  7.021837e-01       0.00   \n",
       "default              186120.0       0.216570  4.119081e-01       0.00   \n",
       "tem_med_emp          186120.0       8.863035  1.506268e+01       0.00   \n",
       "tem_pri_emp          186120.0      16.157592  2.852870e+01       0.00   \n",
       "\n",
       "                           25%       50%        75%           max  \n",
       "id_pessoa            476780.75  535882.5  594991.25  6.710840e+05  \n",
       "valor_emprestimo      47145.00   53803.0   60410.00  9.905720e+05  \n",
       "custo_ativo           65718.00   70948.0   79183.00  1.628992e+06  \n",
       "emprestimo_custo         68.88      76.8      83.67  9.500000e+01  \n",
       "emprego                   0.00       0.0       1.00  2.000000e+00  \n",
       "estado                    4.00       6.0      10.00  2.200000e+01  \n",
       "score                     0.00       0.0     678.00  8.900000e+02  \n",
       "score_cod                 0.00       0.0       9.00  1.400000e+01  \n",
       "pri_qtd_tot_emp           0.00       0.0       3.00  4.530000e+02  \n",
       "pri_qtd_tot_emp_atv       0.00       0.0       1.00  1.440000e+02  \n",
       "pri_qtd_tot_def           0.00       0.0       0.00  2.300000e+01  \n",
       "pri_emp_abt               0.00       0.0   35000.00  9.652492e+07  \n",
       "pri_emp_san               0.00       0.0   61990.00  1.000000e+09  \n",
       "pri_emp_tom               0.00       0.0   60000.00  1.000000e+09  \n",
       "sec_qtd_tot_emp           0.00       0.0       0.00  5.200000e+01  \n",
       "sec_qtd_tot_emp_atv       0.00       0.0       0.00  3.600000e+01  \n",
       "sec_qtd_tot_def           0.00       0.0       0.00  8.000000e+00  \n",
       "sec_emp_abt               0.00       0.0       0.00  3.603285e+07  \n",
       "sec_emp_san               0.00       0.0       0.00  3.000000e+07  \n",
       "sec_emp_tom               0.00       0.0       0.00  3.000000e+07  \n",
       "par_pri_emp               0.00       0.0    1996.00  2.564281e+07  \n",
       "par_seg_emp               0.00       0.0       0.00  4.170901e+06  \n",
       "nov_emp_6m                0.00       0.0       0.00  3.500000e+01  \n",
       "def_emp_6m                0.00       0.0       0.00  2.000000e+01  \n",
       "qtd_sol_emp               0.00       0.0       0.00  3.600000e+01  \n",
       "default                   0.00       0.0       0.00  1.000000e+00  \n",
       "tem_med_emp               0.00       0.0      13.00  3.690000e+02  \n",
       "tem_pri_emp               0.00       0.0      24.00  4.680000e+02  "
      ]
     },
     "execution_count": 25,
     "metadata": {},
     "output_type": "execute_result"
    }
   ],
   "source": [
    "df.describe().T"
   ]
  },
  {
   "cell_type": "code",
   "execution_count": 26,
   "metadata": {},
   "outputs": [],
   "source": [
    "# arquivo de metadados da base da dados\n",
    "\n",
    "meta = pd.read_excel('metadados.xlsx')"
   ]
  },
  {
   "cell_type": "code",
   "execution_count": 27,
   "metadata": {},
   "outputs": [
    {
     "data": {
      "text/html": [
       "<div>\n",
       "<style scoped>\n",
       "    .dataframe tbody tr th:only-of-type {\n",
       "        vertical-align: middle;\n",
       "    }\n",
       "\n",
       "    .dataframe tbody tr th {\n",
       "        vertical-align: top;\n",
       "    }\n",
       "\n",
       "    .dataframe thead th {\n",
       "        text-align: right;\n",
       "    }\n",
       "</style>\n",
       "<table border=\"1\" class=\"dataframe\">\n",
       "  <thead>\n",
       "    <tr style=\"text-align: right;\">\n",
       "      <th></th>\n",
       "      <th>Nome da Variável</th>\n",
       "      <th>Descrição</th>\n",
       "      <th>Unnamed: 2</th>\n",
       "    </tr>\n",
       "  </thead>\n",
       "  <tbody>\n",
       "    <tr>\n",
       "      <th>0</th>\n",
       "      <td>id_pessoa</td>\n",
       "      <td>ID único da pessoa</td>\n",
       "      <td>NaN</td>\n",
       "    </tr>\n",
       "    <tr>\n",
       "      <th>1</th>\n",
       "      <td>default</td>\n",
       "      <td>Descumpriu compromisso de pagamento</td>\n",
       "      <td>NaN</td>\n",
       "    </tr>\n",
       "    <tr>\n",
       "      <th>2</th>\n",
       "      <td>valor_emprestimo</td>\n",
       "      <td>Valor total emprestado pela financeira</td>\n",
       "      <td>NaN</td>\n",
       "    </tr>\n",
       "    <tr>\n",
       "      <th>3</th>\n",
       "      <td>custo_ativo</td>\n",
       "      <td>Custo do ativo (veículo)</td>\n",
       "      <td>NaN</td>\n",
       "    </tr>\n",
       "    <tr>\n",
       "      <th>4</th>\n",
       "      <td>emprestimo_custo</td>\n",
       "      <td>Razão entre valor emprestado e valor do ativo ...</td>\n",
       "      <td>NaN</td>\n",
       "    </tr>\n",
       "    <tr>\n",
       "      <th>5</th>\n",
       "      <td>agencia</td>\n",
       "      <td>Agência que realizou o empréstimo</td>\n",
       "      <td>NaN</td>\n",
       "    </tr>\n",
       "    <tr>\n",
       "      <th>6</th>\n",
       "      <td>revendedora</td>\n",
       "      <td>Revendedora do veículo</td>\n",
       "      <td>NaN</td>\n",
       "    </tr>\n",
       "    <tr>\n",
       "      <th>7</th>\n",
       "      <td>montadora</td>\n",
       "      <td>Montadora do veículo</td>\n",
       "      <td>NaN</td>\n",
       "    </tr>\n",
       "    <tr>\n",
       "      <th>8</th>\n",
       "      <td>id_cliente</td>\n",
       "      <td>Número de identificação do cliente</td>\n",
       "      <td>NaN</td>\n",
       "    </tr>\n",
       "    <tr>\n",
       "      <th>9</th>\n",
       "      <td>nascimento</td>\n",
       "      <td>Data de nascimento</td>\n",
       "      <td>NaN</td>\n",
       "    </tr>\n",
       "    <tr>\n",
       "      <th>10</th>\n",
       "      <td>emprego</td>\n",
       "      <td>Tipo de emprego</td>\n",
       "      <td>NaN</td>\n",
       "    </tr>\n",
       "    <tr>\n",
       "      <th>11</th>\n",
       "      <td>data_contrato</td>\n",
       "      <td>Data do contrato</td>\n",
       "      <td>NaN</td>\n",
       "    </tr>\n",
       "    <tr>\n",
       "      <th>12</th>\n",
       "      <td>estado</td>\n",
       "      <td>Estado do contrato</td>\n",
       "      <td>NaN</td>\n",
       "    </tr>\n",
       "    <tr>\n",
       "      <th>13</th>\n",
       "      <td>funcionario</td>\n",
       "      <td>Funcionário que realizou o empréstimo</td>\n",
       "      <td>NaN</td>\n",
       "    </tr>\n",
       "    <tr>\n",
       "      <th>14</th>\n",
       "      <td>flag_telefone</td>\n",
       "      <td>FLAG - número de telefone do cliente foi compa...</td>\n",
       "      <td>NaN</td>\n",
       "    </tr>\n",
       "    <tr>\n",
       "      <th>15</th>\n",
       "      <td>flag_aadhar</td>\n",
       "      <td>FLAG - número do Aadhar do cliente  foi compar...</td>\n",
       "      <td>NaN</td>\n",
       "    </tr>\n",
       "    <tr>\n",
       "      <th>16</th>\n",
       "      <td>flag_pan</td>\n",
       "      <td>FLAG - número do PAN do cliente foi compartilhado</td>\n",
       "      <td>NaN</td>\n",
       "    </tr>\n",
       "    <tr>\n",
       "      <th>17</th>\n",
       "      <td>flag_eleitor</td>\n",
       "      <td>FLAG - número de eleitor do cliente foi compar...</td>\n",
       "      <td>NaN</td>\n",
       "    </tr>\n",
       "    <tr>\n",
       "      <th>18</th>\n",
       "      <td>flag_cmotorista</td>\n",
       "      <td>FLAG - número da carteira de motorista do clie...</td>\n",
       "      <td>NaN</td>\n",
       "    </tr>\n",
       "    <tr>\n",
       "      <th>19</th>\n",
       "      <td>flag_passaporte</td>\n",
       "      <td>FLAG - número do passaporte do cliente foi com...</td>\n",
       "      <td>NaN</td>\n",
       "    </tr>\n",
       "    <tr>\n",
       "      <th>20</th>\n",
       "      <td>score</td>\n",
       "      <td>Score do Bureau</td>\n",
       "      <td>NaN</td>\n",
       "    </tr>\n",
       "    <tr>\n",
       "      <th>21</th>\n",
       "      <td>score_desc</td>\n",
       "      <td>Descrição do Score</td>\n",
       "      <td>NaN</td>\n",
       "    </tr>\n",
       "    <tr>\n",
       "      <th>22</th>\n",
       "      <td>pri_qtd_tot_emp</td>\n",
       "      <td>Quantidade total de empréstimos tomados pelo c...</td>\n",
       "      <td>Contas primárias</td>\n",
       "    </tr>\n",
       "    <tr>\n",
       "      <th>23</th>\n",
       "      <td>pri_qtd_tot_emp_atv</td>\n",
       "      <td>Quantidade total de empréstimos ativos tomados...</td>\n",
       "      <td>NaN</td>\n",
       "    </tr>\n",
       "    <tr>\n",
       "      <th>24</th>\n",
       "      <td>pri_qtd_tot_def</td>\n",
       "      <td>Quantidade total de contas atrasadas</td>\n",
       "      <td>NaN</td>\n",
       "    </tr>\n",
       "    <tr>\n",
       "      <th>25</th>\n",
       "      <td>pri_emp_abt</td>\n",
       "      <td>Montante de empréstimos em aberto</td>\n",
       "      <td>NaN</td>\n",
       "    </tr>\n",
       "    <tr>\n",
       "      <th>26</th>\n",
       "      <td>pri_emp_san</td>\n",
       "      <td>Montante de empréstimos sancionados</td>\n",
       "      <td>NaN</td>\n",
       "    </tr>\n",
       "    <tr>\n",
       "      <th>27</th>\n",
       "      <td>pri_emp_tom</td>\n",
       "      <td>Montante tomado</td>\n",
       "      <td>NaN</td>\n",
       "    </tr>\n",
       "    <tr>\n",
       "      <th>28</th>\n",
       "      <td>sec_qtd_tot_emp</td>\n",
       "      <td>Quantidade total de empréstimos tomados pelo c...</td>\n",
       "      <td>Contas secundárias</td>\n",
       "    </tr>\n",
       "    <tr>\n",
       "      <th>29</th>\n",
       "      <td>sec_qtd_tot_emp_atv</td>\n",
       "      <td>Quantidade total de empréstimos ativos tomados...</td>\n",
       "      <td>NaN</td>\n",
       "    </tr>\n",
       "    <tr>\n",
       "      <th>30</th>\n",
       "      <td>sec_qtd_tot_def</td>\n",
       "      <td>Quantidade total de contas atrasadas</td>\n",
       "      <td>NaN</td>\n",
       "    </tr>\n",
       "    <tr>\n",
       "      <th>31</th>\n",
       "      <td>sec_emp_abt</td>\n",
       "      <td>Montante de empréstimos em aberto</td>\n",
       "      <td>NaN</td>\n",
       "    </tr>\n",
       "    <tr>\n",
       "      <th>32</th>\n",
       "      <td>sec_emp_san</td>\n",
       "      <td>Montante de empréstimos sancionados</td>\n",
       "      <td>NaN</td>\n",
       "    </tr>\n",
       "    <tr>\n",
       "      <th>33</th>\n",
       "      <td>sec_emp_tom</td>\n",
       "      <td>Montante tomado</td>\n",
       "      <td>NaN</td>\n",
       "    </tr>\n",
       "    <tr>\n",
       "      <th>34</th>\n",
       "      <td>par_pri_emp</td>\n",
       "      <td>Parcela fixa do primeiro empréstimo</td>\n",
       "      <td>NaN</td>\n",
       "    </tr>\n",
       "    <tr>\n",
       "      <th>35</th>\n",
       "      <td>par_seg_emp</td>\n",
       "      <td>Parcela fixa do segundo empréstimo</td>\n",
       "      <td>NaN</td>\n",
       "    </tr>\n",
       "    <tr>\n",
       "      <th>36</th>\n",
       "      <td>nov_emp_6m</td>\n",
       "      <td>Empréstimos tomados nos últimos 6 meses</td>\n",
       "      <td>NaN</td>\n",
       "    </tr>\n",
       "    <tr>\n",
       "      <th>37</th>\n",
       "      <td>def_emp_6m</td>\n",
       "      <td>Quantidade de crédito descumprido nos útimos 6...</td>\n",
       "      <td>NaN</td>\n",
       "    </tr>\n",
       "    <tr>\n",
       "      <th>38</th>\n",
       "      <td>tem_med_emp</td>\n",
       "      <td>Tempo médio de empréstimo</td>\n",
       "      <td>NaN</td>\n",
       "    </tr>\n",
       "    <tr>\n",
       "      <th>39</th>\n",
       "      <td>tem_pri_emp</td>\n",
       "      <td>Tempo desde o primeiro empréstimo</td>\n",
       "      <td>NaN</td>\n",
       "    </tr>\n",
       "    <tr>\n",
       "      <th>40</th>\n",
       "      <td>qtd_sol_emp</td>\n",
       "      <td>Solicitações de empréstimos feitas pelo cliente</td>\n",
       "      <td>NaN</td>\n",
       "    </tr>\n",
       "  </tbody>\n",
       "</table>\n",
       "</div>"
      ],
      "text/plain": [
       "       Nome da Variável                                          Descrição  \\\n",
       "0             id_pessoa                                 ID único da pessoa   \n",
       "1               default                Descumpriu compromisso de pagamento   \n",
       "2      valor_emprestimo             Valor total emprestado pela financeira   \n",
       "3           custo_ativo                           Custo do ativo (veículo)   \n",
       "4      emprestimo_custo  Razão entre valor emprestado e valor do ativo ...   \n",
       "5               agencia                  Agência que realizou o empréstimo   \n",
       "6           revendedora                             Revendedora do veículo   \n",
       "7             montadora                               Montadora do veículo   \n",
       "8            id_cliente                 Número de identificação do cliente   \n",
       "9            nascimento                                 Data de nascimento   \n",
       "10              emprego                                    Tipo de emprego   \n",
       "11        data_contrato                                   Data do contrato   \n",
       "12               estado                                 Estado do contrato   \n",
       "13          funcionario              Funcionário que realizou o empréstimo   \n",
       "14        flag_telefone  FLAG - número de telefone do cliente foi compa...   \n",
       "15          flag_aadhar  FLAG - número do Aadhar do cliente  foi compar...   \n",
       "16             flag_pan  FLAG - número do PAN do cliente foi compartilhado   \n",
       "17         flag_eleitor  FLAG - número de eleitor do cliente foi compar...   \n",
       "18      flag_cmotorista  FLAG - número da carteira de motorista do clie...   \n",
       "19      flag_passaporte  FLAG - número do passaporte do cliente foi com...   \n",
       "20                score                                    Score do Bureau   \n",
       "21           score_desc                                 Descrição do Score   \n",
       "22      pri_qtd_tot_emp  Quantidade total de empréstimos tomados pelo c...   \n",
       "23  pri_qtd_tot_emp_atv  Quantidade total de empréstimos ativos tomados...   \n",
       "24      pri_qtd_tot_def               Quantidade total de contas atrasadas   \n",
       "25          pri_emp_abt                  Montante de empréstimos em aberto   \n",
       "26          pri_emp_san                Montante de empréstimos sancionados   \n",
       "27          pri_emp_tom                                    Montante tomado   \n",
       "28      sec_qtd_tot_emp  Quantidade total de empréstimos tomados pelo c...   \n",
       "29  sec_qtd_tot_emp_atv  Quantidade total de empréstimos ativos tomados...   \n",
       "30      sec_qtd_tot_def               Quantidade total de contas atrasadas   \n",
       "31          sec_emp_abt                  Montante de empréstimos em aberto   \n",
       "32          sec_emp_san                Montante de empréstimos sancionados   \n",
       "33          sec_emp_tom                                    Montante tomado   \n",
       "34          par_pri_emp                Parcela fixa do primeiro empréstimo   \n",
       "35          par_seg_emp                 Parcela fixa do segundo empréstimo   \n",
       "36           nov_emp_6m            Empréstimos tomados nos últimos 6 meses   \n",
       "37           def_emp_6m  Quantidade de crédito descumprido nos útimos 6...   \n",
       "38          tem_med_emp                          Tempo médio de empréstimo   \n",
       "39          tem_pri_emp                  Tempo desde o primeiro empréstimo   \n",
       "40          qtd_sol_emp    Solicitações de empréstimos feitas pelo cliente   \n",
       "\n",
       "            Unnamed: 2  \n",
       "0                  NaN  \n",
       "1                  NaN  \n",
       "2                  NaN  \n",
       "3                  NaN  \n",
       "4                  NaN  \n",
       "5                  NaN  \n",
       "6                  NaN  \n",
       "7                  NaN  \n",
       "8                  NaN  \n",
       "9                  NaN  \n",
       "10                 NaN  \n",
       "11                 NaN  \n",
       "12                 NaN  \n",
       "13                 NaN  \n",
       "14                 NaN  \n",
       "15                 NaN  \n",
       "16                 NaN  \n",
       "17                 NaN  \n",
       "18                 NaN  \n",
       "19                 NaN  \n",
       "20                 NaN  \n",
       "21                 NaN  \n",
       "22    Contas primárias  \n",
       "23                 NaN  \n",
       "24                 NaN  \n",
       "25                 NaN  \n",
       "26                 NaN  \n",
       "27                 NaN  \n",
       "28  Contas secundárias  \n",
       "29                 NaN  \n",
       "30                 NaN  \n",
       "31                 NaN  \n",
       "32                 NaN  \n",
       "33                 NaN  \n",
       "34                 NaN  \n",
       "35                 NaN  \n",
       "36                 NaN  \n",
       "37                 NaN  \n",
       "38                 NaN  \n",
       "39                 NaN  \n",
       "40                 NaN  "
      ]
     },
     "execution_count": 27,
     "metadata": {},
     "output_type": "execute_result"
    }
   ],
   "source": [
    "meta"
   ]
  },
  {
   "cell_type": "code",
   "execution_count": 28,
   "metadata": {},
   "outputs": [
    {
     "data": {
      "text/html": [
       "<div>\n",
       "<style scoped>\n",
       "    .dataframe tbody tr th:only-of-type {\n",
       "        vertical-align: middle;\n",
       "    }\n",
       "\n",
       "    .dataframe tbody tr th {\n",
       "        vertical-align: top;\n",
       "    }\n",
       "\n",
       "    .dataframe thead th {\n",
       "        text-align: right;\n",
       "    }\n",
       "</style>\n",
       "<table border=\"1\" class=\"dataframe\">\n",
       "  <thead>\n",
       "    <tr style=\"text-align: right;\">\n",
       "      <th></th>\n",
       "      <th>emprego</th>\n",
       "      <th>default</th>\n",
       "      <th>custo_ativo</th>\n",
       "      <th>valor_emprestimo</th>\n",
       "      <th>emprestimo_custo</th>\n",
       "    </tr>\n",
       "  </thead>\n",
       "  <tbody>\n",
       "    <tr>\n",
       "      <th>155653</th>\n",
       "      <td>1</td>\n",
       "      <td>0</td>\n",
       "      <td>75571</td>\n",
       "      <td>63418</td>\n",
       "      <td>85.00</td>\n",
       "    </tr>\n",
       "    <tr>\n",
       "      <th>98628</th>\n",
       "      <td>0</td>\n",
       "      <td>0</td>\n",
       "      <td>69042</td>\n",
       "      <td>42494</td>\n",
       "      <td>65.18</td>\n",
       "    </tr>\n",
       "    <tr>\n",
       "      <th>132937</th>\n",
       "      <td>1</td>\n",
       "      <td>0</td>\n",
       "      <td>69407</td>\n",
       "      <td>56909</td>\n",
       "      <td>84.86</td>\n",
       "    </tr>\n",
       "    <tr>\n",
       "      <th>29031</th>\n",
       "      <td>0</td>\n",
       "      <td>0</td>\n",
       "      <td>82782</td>\n",
       "      <td>69488</td>\n",
       "      <td>85.00</td>\n",
       "    </tr>\n",
       "    <tr>\n",
       "      <th>67486</th>\n",
       "      <td>1</td>\n",
       "      <td>0</td>\n",
       "      <td>66783</td>\n",
       "      <td>54963</td>\n",
       "      <td>84.90</td>\n",
       "    </tr>\n",
       "    <tr>\n",
       "      <th>...</th>\n",
       "      <td>...</td>\n",
       "      <td>...</td>\n",
       "      <td>...</td>\n",
       "      <td>...</td>\n",
       "      <td>...</td>\n",
       "    </tr>\n",
       "    <tr>\n",
       "      <th>158885</th>\n",
       "      <td>2</td>\n",
       "      <td>0</td>\n",
       "      <td>71008</td>\n",
       "      <td>51078</td>\n",
       "      <td>73.23</td>\n",
       "    </tr>\n",
       "    <tr>\n",
       "      <th>144610</th>\n",
       "      <td>1</td>\n",
       "      <td>0</td>\n",
       "      <td>66042</td>\n",
       "      <td>38694</td>\n",
       "      <td>61.02</td>\n",
       "    </tr>\n",
       "    <tr>\n",
       "      <th>204677</th>\n",
       "      <td>0</td>\n",
       "      <td>1</td>\n",
       "      <td>66810</td>\n",
       "      <td>51913</td>\n",
       "      <td>78.75</td>\n",
       "    </tr>\n",
       "    <tr>\n",
       "      <th>68304</th>\n",
       "      <td>0</td>\n",
       "      <td>0</td>\n",
       "      <td>71460</td>\n",
       "      <td>60007</td>\n",
       "      <td>85.45</td>\n",
       "    </tr>\n",
       "    <tr>\n",
       "      <th>57003</th>\n",
       "      <td>0</td>\n",
       "      <td>1</td>\n",
       "      <td>62526</td>\n",
       "      <td>53078</td>\n",
       "      <td>87.96</td>\n",
       "    </tr>\n",
       "  </tbody>\n",
       "</table>\n",
       "<p>186120 rows × 5 columns</p>\n",
       "</div>"
      ],
      "text/plain": [
       "        emprego  default  custo_ativo  valor_emprestimo  emprestimo_custo\n",
       "155653        1        0        75571             63418             85.00\n",
       "98628         0        0        69042             42494             65.18\n",
       "132937        1        0        69407             56909             84.86\n",
       "29031         0        0        82782             69488             85.00\n",
       "67486         1        0        66783             54963             84.90\n",
       "...         ...      ...          ...               ...               ...\n",
       "158885        2        0        71008             51078             73.23\n",
       "144610        1        0        66042             38694             61.02\n",
       "204677        0        1        66810             51913             78.75\n",
       "68304         0        0        71460             60007             85.45\n",
       "57003         0        1        62526             53078             87.96\n",
       "\n",
       "[186120 rows x 5 columns]"
      ]
     },
     "execution_count": 28,
     "metadata": {},
     "output_type": "execute_result"
    }
   ],
   "source": [
    "df[['emprego','default','custo_ativo','valor_emprestimo','emprestimo_custo']]"
   ]
  },
  {
   "cell_type": "markdown",
   "metadata": {},
   "source": [
    "### variável a ser predita é default, quanto de descumprimento temos? defalut = 1"
   ]
  },
  {
   "cell_type": "code",
   "execution_count": 29,
   "metadata": {},
   "outputs": [
    {
     "data": {
      "text/plain": [
       "0    0.78343\n",
       "1    0.21657\n",
       "Name: default, dtype: float64"
      ]
     },
     "execution_count": 29,
     "metadata": {},
     "output_type": "execute_result"
    }
   ],
   "source": [
    "df.default.value_counts(1)"
   ]
  },
  {
   "cell_type": "code",
   "execution_count": 30,
   "metadata": {},
   "outputs": [
    {
     "data": {
      "text/plain": [
       "Index(['id_pessoa', 'valor_emprestimo', 'custo_ativo', 'emprestimo_custo',\n",
       "       'emprego', 'estado', 'score', 'score_cod', 'pri_qtd_tot_emp',\n",
       "       'pri_qtd_tot_emp_atv', 'pri_qtd_tot_def', 'pri_emp_abt', 'pri_emp_san',\n",
       "       'pri_emp_tom', 'sec_qtd_tot_emp', 'sec_qtd_tot_emp_atv',\n",
       "       'sec_qtd_tot_def', 'sec_emp_abt', 'sec_emp_san', 'sec_emp_tom',\n",
       "       'par_pri_emp', 'par_seg_emp', 'nov_emp_6m', 'def_emp_6m', 'qtd_sol_emp',\n",
       "       'default', 'tem_med_emp', 'tem_pri_emp'],\n",
       "      dtype='object')"
      ]
     },
     "execution_count": 30,
     "metadata": {},
     "output_type": "execute_result"
    }
   ],
   "source": [
    "df.columns"
   ]
  },
  {
   "cell_type": "code",
   "execution_count": 31,
   "metadata": {},
   "outputs": [],
   "source": [
    "## imports para modelo e métricas\n",
    "\n",
    "from sklearn.feature_selection import SelectKBest, f_classif\n",
    "\n",
    "from sklearn.tree import DecisionTreeClassifier\n",
    "from sklearn.ensemble import RandomForestClassifier\n",
    "\n",
    "from sklearn.metrics import accuracy_score, f1_score, roc_auc_score, confusion_matrix\n",
    "\n",
    "import warnings\n",
    "warnings.filterwarnings(\"ignore\")"
   ]
  },
  {
   "cell_type": "code",
   "execution_count": 32,
   "metadata": {},
   "outputs": [],
   "source": [
    "y = df['default']\n",
    "X = df.drop(['default'], axis=1)"
   ]
  },
  {
   "cell_type": "code",
   "execution_count": 33,
   "metadata": {},
   "outputs": [
    {
     "data": {
      "text/plain": [
       "(186120, 28)"
      ]
     },
     "execution_count": 33,
     "metadata": {},
     "output_type": "execute_result"
    }
   ],
   "source": [
    "df.shape"
   ]
  },
  {
   "cell_type": "code",
   "execution_count": 34,
   "metadata": {},
   "outputs": [
    {
     "data": {
      "text/plain": [
       "((93060, 27), (93060, 27), (93060,), (93060,))"
      ]
     },
     "execution_count": 34,
     "metadata": {},
     "output_type": "execute_result"
    }
   ],
   "source": [
    "from sklearn.model_selection import train_test_split\n",
    "\n",
    "X_treino, X_teste, y_treino, y_teste = train_test_split(X, y, train_size=0.5, random_state=123)\n",
    "X_treino.shape, X_teste.shape, y_treino.shape, y_teste.shape"
   ]
  },
  {
   "cell_type": "code",
   "execution_count": 35,
   "metadata": {},
   "outputs": [],
   "source": [
    "from sklearn.metrics import log_loss"
   ]
  },
  {
   "cell_type": "code",
   "execution_count": 36,
   "metadata": {},
   "outputs": [
    {
     "data": {
      "text/plain": [
       "0.5220774235388375"
      ]
     },
     "execution_count": 36,
     "metadata": {},
     "output_type": "execute_result"
    }
   ],
   "source": [
    "# A baseline é de 0.5220, ou seja, meu modelo deve ser capaz de minimizar, log_loss<0.5220\n",
    "\n",
    "baseline1 = np.ones(X_teste.shape[0])*y_treino.mean()\n",
    "log_loss(y_teste, baseline1)"
   ]
  },
  {
   "cell_type": "markdown",
   "metadata": {},
   "source": [
    "\n",
    "### LITERATURA CONSULTADA PARA EXPERIMENTO 1 - MODELO RANDOM FOREST CLASSIFIER e KBEST\n",
    "\n",
    "#confusion matrix: https://towardsdatascience.com/understanding-confusion-matrix-a9ad42dcfd62\n",
    "\n",
    "#select kbest: https://www.kaggle.com/jepsds/feature-selection-using-selectkbest?utm_campaign=News&utm_medium=Community&utm_source=DataCamp.com"
   ]
  },
  {
   "cell_type": "code",
   "execution_count": 37,
   "metadata": {},
   "outputs": [
    {
     "name": "stdout",
     "output_type": "stream",
     "text": [
      "k = 1 | roc = 0.535 | gini = 0.07 \n",
      "k = 2 | roc = 0.53 | gini = 0.061 \n",
      "k = 3 | roc = 0.547 | gini = 0.095 \n",
      "k = 4 | roc = 0.552 | gini = 0.105 \n",
      "k = 5 | roc = 0.571 | gini = 0.141 \n",
      "k = 6 | roc = 0.575 | gini = 0.15 \n",
      "k = 7 | roc = 0.575 | gini = 0.151 \n",
      "k = 8 | roc = 0.581 | gini = 0.163 \n",
      "k = 9 | roc = 0.586 | gini = 0.172 \n",
      "k = 10 | roc = 0.588 | gini = 0.176 \n",
      "k = 11 | roc = 0.589 | gini = 0.177 \n",
      "k = 12 | roc = 0.611 | gini = 0.222 \n",
      "k = 13 | roc = 0.609 | gini = 0.217 \n",
      "k = 14 | roc = 0.613 | gini = 0.226 \n",
      "k = 15 | roc = 0.612 | gini = 0.225 \n",
      "k = 16 | roc = 0.612 | gini = 0.224 \n",
      "k = 17 | roc = 0.611 | gini = 0.223 \n",
      "k = 18 | roc = 0.615 | gini = 0.23 \n",
      "k = 19 | roc = 0.614 | gini = 0.229 \n",
      "k = 20 | roc = 0.615 | gini = 0.231 \n",
      "k = 21 | roc = 0.617 | gini = 0.233 \n",
      "k = 22 | roc = 0.614 | gini = 0.227 \n",
      "k = 23 | roc = 0.616 | gini = 0.231 \n",
      "k = 24 | roc = 0.614 | gini = 0.229 \n",
      "k = 25 | roc = 0.613 | gini = 0.227 \n",
      "k = 26 | roc = 0.615 | gini = 0.23 \n",
      "k = 27 | roc = 0.614 | gini = 0.228 \n",
      "CPU times: user 15min 9s, sys: 4.26 s, total: 15min 14s\n",
      "Wall time: 7min 47s\n"
     ]
    }
   ],
   "source": [
    "%%time\n",
    "\n",
    "## Random Forest Classifier com selectKbest (número de features \"ótimo\")\n",
    "\n",
    "k_gini = [] #lista de ginis para diferenciar o melhor desempenho com cada k (features)\n",
    "k_roc = []\n",
    "\n",
    "for k in range(1,28):\n",
    "    \n",
    "    s = SelectKBest(score_func=f_classif, k=k)\n",
    "    \n",
    "    #usando nas var2 e depois com o k definido utilizo x_treino,y_treino no fit\n",
    "    \n",
    "    X_treino2 = s.fit_transform(X_treino,y_treino)\n",
    "    X_teste2 = s.transform(X_teste) \n",
    "    \n",
    "    modelo = RandomForestClassifier(n_estimators=100,n_jobs=2,random_state = 123)\n",
    "    modelo.fit(X_treino2,y_treino)\n",
    "    \n",
    "    pred2 = modelo.predict_proba(X_teste2)[:,1]\n",
    "   \n",
    "    gini2 = 2*roc_auc_score(y_teste, pred2) - 1\n",
    "    roc = roc_auc_score(y_teste, pred2)\n",
    "    \n",
    "    print(\"k = {} | roc = {} | gini = {} \".format(k, round(roc, 3), round(gini2, 3)))\n",
    "    \n",
    "    k_gini.append(gini2)\n",
    "    k_roc.append(roc)"
   ]
  },
  {
   "cell_type": "code",
   "execution_count": 38,
   "metadata": {},
   "outputs": [
    {
     "data": {
      "image/png": "[encoded data removed]",
      "text/plain": [
       "<Figure size 720x504 with 1 Axes>"
      ]
     },
     "metadata": {
      "needs_background": "light"
     },
     "output_type": "display_data"
    }
   ],
   "source": [
    "pd.Series(k_gini, index=range(1,28)).plot(figsize=(10,7));"
   ]
  },
  {
   "cell_type": "code",
   "execution_count": 39,
   "metadata": {},
   "outputs": [
    {
     "data": {
      "image/png": "[encoded data removed]",
      "text/plain": [
       "<Figure size 720x504 with 1 Axes>"
      ]
     },
     "metadata": {
      "needs_background": "light"
     },
     "output_type": "display_data"
    }
   ],
   "source": [
    "# parace que um intervalo de 12 a 27 variáveis o gini parece estável em appx 0.2\n",
    "# podemos visualizar a partir do roc_auc também\n",
    "\n",
    "pd.Series(k_roc, index=range(1,28)).plot(figsize=(10,7));"
   ]
  },
  {
   "cell_type": "code",
   "execution_count": 40,
   "metadata": {},
   "outputs": [],
   "source": [
    "# k = 20 parece estar em intervalo estável"
   ]
  },
  {
   "cell_type": "code",
   "execution_count": 41,
   "metadata": {},
   "outputs": [
    {
     "data": {
      "text/plain": [
       "SelectKBest(k=20)"
      ]
     },
     "execution_count": 41,
     "metadata": {},
     "output_type": "execute_result"
    }
   ],
   "source": [
    "# fazendo kBest com as 20 variáveis\n",
    "\n",
    "s = SelectKBest(score_func=f_classif, k=20)\n",
    "\n",
    "s.fit(X_treino,y_treino)"
   ]
  },
  {
   "cell_type": "code",
   "execution_count": 42,
   "metadata": {},
   "outputs": [
    {
     "data": {
      "text/plain": [
       "Index(['id_pessoa', 'valor_emprestimo', 'custo_ativo', 'emprestimo_custo',\n",
       "       'emprego', 'estado', 'score', 'score_cod', 'pri_qtd_tot_emp',\n",
       "       'pri_qtd_tot_emp_atv', 'pri_qtd_tot_def', 'pri_emp_abt', 'pri_emp_san',\n",
       "       'pri_emp_tom', 'par_pri_emp', 'nov_emp_6m', 'def_emp_6m', 'qtd_sol_emp',\n",
       "       'tem_med_emp', 'tem_pri_emp'],\n",
       "      dtype='object')"
      ]
     },
     "execution_count": 42,
     "metadata": {},
     "output_type": "execute_result"
    }
   ],
   "source": [
    "# verificando quais 20 variáveis selecionadas através do get_support\n",
    "\n",
    "mask = s.get_support()\n",
    "X_teste.columns[mask]"
   ]
  },
  {
   "cell_type": "code",
   "execution_count": 43,
   "metadata": {},
   "outputs": [
    {
     "data": {
      "image/png": "[encoded data removed]",
      "text/plain": [
       "<Figure size 432x288 with 1 Axes>"
      ]
     },
     "metadata": {
      "needs_background": "light"
     },
     "output_type": "display_data"
    }
   ],
   "source": [
    "# plotando sorted e tail(20) para ver as maiores em gráfico de barras, no x estão os scores e y as variáveis\n",
    "\n",
    "pd.Series(s.scores_, index=X_treino.columns).sort_values().tail(20).plot.barh();"
   ]
  },
  {
   "cell_type": "code",
   "execution_count": 44,
   "metadata": {},
   "outputs": [],
   "source": [
    "# DENTRE AS VARIÁVEIS SELECIONADAS AS 5 PRIMEIRAS SÃO: \n",
    "\n",
    "# - EMPRESTIMO CUSTO, VALOR EMPRESTIMO, SCORE COD, SCORE E ESTADO"
   ]
  },
  {
   "cell_type": "markdown",
   "metadata": {},
   "source": [
    "### MODELOS"
   ]
  },
  {
   "cell_type": "markdown",
   "metadata": {},
   "source": [
    "### - Definição da nova base - selecionada previamente com KBEST"
   ]
  },
  {
   "cell_type": "code",
   "execution_count": 45,
   "metadata": {},
   "outputs": [],
   "source": [
    "df_treino = df[['id_pessoa', 'default','valor_emprestimo', 'custo_ativo', 'emprestimo_custo',\n",
    "       'emprego', 'estado', 'score', 'score_cod', 'pri_qtd_tot_emp',\n",
    "       'pri_qtd_tot_emp_atv', 'pri_qtd_tot_def', 'pri_emp_abt', 'pri_emp_san',\n",
    "       'pri_emp_tom', 'par_pri_emp', 'nov_emp_6m', 'def_emp_6m', 'qtd_sol_emp',\n",
    "       'tem_med_emp', 'tem_pri_emp']]"
   ]
  },
  {
   "cell_type": "code",
   "execution_count": 46,
   "metadata": {},
   "outputs": [
    {
     "data": {
      "text/plain": [
       "(186120, 21)"
      ]
     },
     "execution_count": 46,
     "metadata": {},
     "output_type": "execute_result"
    }
   ],
   "source": [
    "df_treino.shape"
   ]
  },
  {
   "cell_type": "markdown",
   "metadata": {},
   "source": [
    "### - Estatística descritiva básica do novo dataframe de treino"
   ]
  },
  {
   "cell_type": "code",
   "execution_count": 47,
   "metadata": {},
   "outputs": [
    {
     "data": {
      "text/html": [
       "<div>\n",
       "<style scoped>\n",
       "    .dataframe tbody tr th:only-of-type {\n",
       "        vertical-align: middle;\n",
       "    }\n",
       "\n",
       "    .dataframe tbody tr th {\n",
       "        vertical-align: top;\n",
       "    }\n",
       "\n",
       "    .dataframe thead th {\n",
       "        text-align: right;\n",
       "    }\n",
       "</style>\n",
       "<table border=\"1\" class=\"dataframe\">\n",
       "  <thead>\n",
       "    <tr style=\"text-align: right;\">\n",
       "      <th></th>\n",
       "      <th>count</th>\n",
       "      <th>mean</th>\n",
       "      <th>std</th>\n",
       "      <th>min</th>\n",
       "      <th>25%</th>\n",
       "      <th>50%</th>\n",
       "      <th>75%</th>\n",
       "      <th>max</th>\n",
       "    </tr>\n",
       "  </thead>\n",
       "  <tbody>\n",
       "    <tr>\n",
       "      <th>id_pessoa</th>\n",
       "      <td>186120.0</td>\n",
       "      <td>535876.241522</td>\n",
       "      <td>6.833148e+04</td>\n",
       "      <td>417428.00</td>\n",
       "      <td>476780.75</td>\n",
       "      <td>535882.5</td>\n",
       "      <td>594991.25</td>\n",
       "      <td>6.710840e+05</td>\n",
       "    </tr>\n",
       "    <tr>\n",
       "      <th>default</th>\n",
       "      <td>186120.0</td>\n",
       "      <td>0.216570</td>\n",
       "      <td>4.119081e-01</td>\n",
       "      <td>0.00</td>\n",
       "      <td>0.00</td>\n",
       "      <td>0.0</td>\n",
       "      <td>0.00</td>\n",
       "      <td>1.000000e+00</td>\n",
       "    </tr>\n",
       "    <tr>\n",
       "      <th>valor_emprestimo</th>\n",
       "      <td>186120.0</td>\n",
       "      <td>54357.533269</td>\n",
       "      <td>1.302550e+04</td>\n",
       "      <td>13320.00</td>\n",
       "      <td>47145.00</td>\n",
       "      <td>53803.0</td>\n",
       "      <td>60410.00</td>\n",
       "      <td>9.905720e+05</td>\n",
       "    </tr>\n",
       "    <tr>\n",
       "      <th>custo_ativo</th>\n",
       "      <td>186120.0</td>\n",
       "      <td>75855.459875</td>\n",
       "      <td>1.905847e+04</td>\n",
       "      <td>37000.00</td>\n",
       "      <td>65718.00</td>\n",
       "      <td>70948.0</td>\n",
       "      <td>79183.00</td>\n",
       "      <td>1.628992e+06</td>\n",
       "    </tr>\n",
       "    <tr>\n",
       "      <th>emprestimo_custo</th>\n",
       "      <td>186120.0</td>\n",
       "      <td>74.757411</td>\n",
       "      <td>1.142738e+01</td>\n",
       "      <td>14.17</td>\n",
       "      <td>68.88</td>\n",
       "      <td>76.8</td>\n",
       "      <td>83.67</td>\n",
       "      <td>9.500000e+01</td>\n",
       "    </tr>\n",
       "    <tr>\n",
       "      <th>emprego</th>\n",
       "      <td>186120.0</td>\n",
       "      <td>0.485982</td>\n",
       "      <td>5.619181e-01</td>\n",
       "      <td>0.00</td>\n",
       "      <td>0.00</td>\n",
       "      <td>0.0</td>\n",
       "      <td>1.00</td>\n",
       "      <td>2.000000e+00</td>\n",
       "    </tr>\n",
       "    <tr>\n",
       "      <th>estado</th>\n",
       "      <td>186120.0</td>\n",
       "      <td>7.260230</td>\n",
       "      <td>4.478129e+00</td>\n",
       "      <td>1.00</td>\n",
       "      <td>4.00</td>\n",
       "      <td>6.0</td>\n",
       "      <td>10.00</td>\n",
       "      <td>2.200000e+01</td>\n",
       "    </tr>\n",
       "    <tr>\n",
       "      <th>score</th>\n",
       "      <td>186120.0</td>\n",
       "      <td>288.296717</td>\n",
       "      <td>3.382268e+02</td>\n",
       "      <td>0.00</td>\n",
       "      <td>0.00</td>\n",
       "      <td>0.0</td>\n",
       "      <td>678.00</td>\n",
       "      <td>8.900000e+02</td>\n",
       "    </tr>\n",
       "    <tr>\n",
       "      <th>score_cod</th>\n",
       "      <td>186120.0</td>\n",
       "      <td>4.137890</td>\n",
       "      <td>5.209828e+00</td>\n",
       "      <td>0.00</td>\n",
       "      <td>0.00</td>\n",
       "      <td>0.0</td>\n",
       "      <td>9.00</td>\n",
       "      <td>1.400000e+01</td>\n",
       "    </tr>\n",
       "    <tr>\n",
       "      <th>pri_qtd_tot_emp</th>\n",
       "      <td>186120.0</td>\n",
       "      <td>2.430668</td>\n",
       "      <td>5.241925e+00</td>\n",
       "      <td>0.00</td>\n",
       "      <td>0.00</td>\n",
       "      <td>0.0</td>\n",
       "      <td>3.00</td>\n",
       "      <td>4.530000e+02</td>\n",
       "    </tr>\n",
       "    <tr>\n",
       "      <th>pri_qtd_tot_emp_atv</th>\n",
       "      <td>186120.0</td>\n",
       "      <td>1.034918</td>\n",
       "      <td>1.943559e+00</td>\n",
       "      <td>0.00</td>\n",
       "      <td>0.00</td>\n",
       "      <td>0.0</td>\n",
       "      <td>1.00</td>\n",
       "      <td>1.440000e+02</td>\n",
       "    </tr>\n",
       "    <tr>\n",
       "      <th>pri_qtd_tot_def</th>\n",
       "      <td>186120.0</td>\n",
       "      <td>0.155991</td>\n",
       "      <td>5.457986e-01</td>\n",
       "      <td>0.00</td>\n",
       "      <td>0.00</td>\n",
       "      <td>0.0</td>\n",
       "      <td>0.00</td>\n",
       "      <td>2.300000e+01</td>\n",
       "    </tr>\n",
       "    <tr>\n",
       "      <th>pri_emp_abt</th>\n",
       "      <td>186120.0</td>\n",
       "      <td>166572.307893</td>\n",
       "      <td>9.679504e+05</td>\n",
       "      <td>0.00</td>\n",
       "      <td>0.00</td>\n",
       "      <td>0.0</td>\n",
       "      <td>35000.00</td>\n",
       "      <td>9.652492e+07</td>\n",
       "    </tr>\n",
       "    <tr>\n",
       "      <th>pri_emp_san</th>\n",
       "      <td>186120.0</td>\n",
       "      <td>219817.481259</td>\n",
       "      <td>2.605588e+06</td>\n",
       "      <td>0.00</td>\n",
       "      <td>0.00</td>\n",
       "      <td>0.0</td>\n",
       "      <td>61990.00</td>\n",
       "      <td>1.000000e+09</td>\n",
       "    </tr>\n",
       "    <tr>\n",
       "      <th>pri_emp_tom</th>\n",
       "      <td>186120.0</td>\n",
       "      <td>219425.560294</td>\n",
       "      <td>2.608790e+06</td>\n",
       "      <td>0.00</td>\n",
       "      <td>0.00</td>\n",
       "      <td>0.0</td>\n",
       "      <td>60000.00</td>\n",
       "      <td>1.000000e+09</td>\n",
       "    </tr>\n",
       "    <tr>\n",
       "      <th>par_pri_emp</th>\n",
       "      <td>186120.0</td>\n",
       "      <td>13347.408801</td>\n",
       "      <td>1.618269e+05</td>\n",
       "      <td>0.00</td>\n",
       "      <td>0.00</td>\n",
       "      <td>0.0</td>\n",
       "      <td>1996.00</td>\n",
       "      <td>2.564281e+07</td>\n",
       "    </tr>\n",
       "    <tr>\n",
       "      <th>nov_emp_6m</th>\n",
       "      <td>186120.0</td>\n",
       "      <td>0.381689</td>\n",
       "      <td>9.583126e-01</td>\n",
       "      <td>0.00</td>\n",
       "      <td>0.00</td>\n",
       "      <td>0.0</td>\n",
       "      <td>0.00</td>\n",
       "      <td>3.500000e+01</td>\n",
       "    </tr>\n",
       "    <tr>\n",
       "      <th>def_emp_6m</th>\n",
       "      <td>186120.0</td>\n",
       "      <td>0.096932</td>\n",
       "      <td>3.836912e-01</td>\n",
       "      <td>0.00</td>\n",
       "      <td>0.00</td>\n",
       "      <td>0.0</td>\n",
       "      <td>0.00</td>\n",
       "      <td>2.000000e+01</td>\n",
       "    </tr>\n",
       "    <tr>\n",
       "      <th>qtd_sol_emp</th>\n",
       "      <td>186120.0</td>\n",
       "      <td>0.206308</td>\n",
       "      <td>7.021837e-01</td>\n",
       "      <td>0.00</td>\n",
       "      <td>0.00</td>\n",
       "      <td>0.0</td>\n",
       "      <td>0.00</td>\n",
       "      <td>3.600000e+01</td>\n",
       "    </tr>\n",
       "    <tr>\n",
       "      <th>tem_med_emp</th>\n",
       "      <td>186120.0</td>\n",
       "      <td>8.863035</td>\n",
       "      <td>1.506268e+01</td>\n",
       "      <td>0.00</td>\n",
       "      <td>0.00</td>\n",
       "      <td>0.0</td>\n",
       "      <td>13.00</td>\n",
       "      <td>3.690000e+02</td>\n",
       "    </tr>\n",
       "    <tr>\n",
       "      <th>tem_pri_emp</th>\n",
       "      <td>186120.0</td>\n",
       "      <td>16.157592</td>\n",
       "      <td>2.852870e+01</td>\n",
       "      <td>0.00</td>\n",
       "      <td>0.00</td>\n",
       "      <td>0.0</td>\n",
       "      <td>24.00</td>\n",
       "      <td>4.680000e+02</td>\n",
       "    </tr>\n",
       "  </tbody>\n",
       "</table>\n",
       "</div>"
      ],
      "text/plain": [
       "                        count           mean           std        min  \\\n",
       "id_pessoa            186120.0  535876.241522  6.833148e+04  417428.00   \n",
       "default              186120.0       0.216570  4.119081e-01       0.00   \n",
       "valor_emprestimo     186120.0   54357.533269  1.302550e+04   13320.00   \n",
       "custo_ativo          186120.0   75855.459875  1.905847e+04   37000.00   \n",
       "emprestimo_custo     186120.0      74.757411  1.142738e+01      14.17   \n",
       "emprego              186120.0       0.485982  5.619181e-01       0.00   \n",
       "estado               186120.0       7.260230  4.478129e+00       1.00   \n",
       "score                186120.0     288.296717  3.382268e+02       0.00   \n",
       "score_cod            186120.0       4.137890  5.209828e+00       0.00   \n",
       "pri_qtd_tot_emp      186120.0       2.430668  5.241925e+00       0.00   \n",
       "pri_qtd_tot_emp_atv  186120.0       1.034918  1.943559e+00       0.00   \n",
       "pri_qtd_tot_def      186120.0       0.155991  5.457986e-01       0.00   \n",
       "pri_emp_abt          186120.0  166572.307893  9.679504e+05       0.00   \n",
       "pri_emp_san          186120.0  219817.481259  2.605588e+06       0.00   \n",
       "pri_emp_tom          186120.0  219425.560294  2.608790e+06       0.00   \n",
       "par_pri_emp          186120.0   13347.408801  1.618269e+05       0.00   \n",
       "nov_emp_6m           186120.0       0.381689  9.583126e-01       0.00   \n",
       "def_emp_6m           186120.0       0.096932  3.836912e-01       0.00   \n",
       "qtd_sol_emp          186120.0       0.206308  7.021837e-01       0.00   \n",
       "tem_med_emp          186120.0       8.863035  1.506268e+01       0.00   \n",
       "tem_pri_emp          186120.0      16.157592  2.852870e+01       0.00   \n",
       "\n",
       "                           25%       50%        75%           max  \n",
       "id_pessoa            476780.75  535882.5  594991.25  6.710840e+05  \n",
       "default                   0.00       0.0       0.00  1.000000e+00  \n",
       "valor_emprestimo      47145.00   53803.0   60410.00  9.905720e+05  \n",
       "custo_ativo           65718.00   70948.0   79183.00  1.628992e+06  \n",
       "emprestimo_custo         68.88      76.8      83.67  9.500000e+01  \n",
       "emprego                   0.00       0.0       1.00  2.000000e+00  \n",
       "estado                    4.00       6.0      10.00  2.200000e+01  \n",
       "score                     0.00       0.0     678.00  8.900000e+02  \n",
       "score_cod                 0.00       0.0       9.00  1.400000e+01  \n",
       "pri_qtd_tot_emp           0.00       0.0       3.00  4.530000e+02  \n",
       "pri_qtd_tot_emp_atv       0.00       0.0       1.00  1.440000e+02  \n",
       "pri_qtd_tot_def           0.00       0.0       0.00  2.300000e+01  \n",
       "pri_emp_abt               0.00       0.0   35000.00  9.652492e+07  \n",
       "pri_emp_san               0.00       0.0   61990.00  1.000000e+09  \n",
       "pri_emp_tom               0.00       0.0   60000.00  1.000000e+09  \n",
       "par_pri_emp               0.00       0.0    1996.00  2.564281e+07  \n",
       "nov_emp_6m                0.00       0.0       0.00  3.500000e+01  \n",
       "def_emp_6m                0.00       0.0       0.00  2.000000e+01  \n",
       "qtd_sol_emp               0.00       0.0       0.00  3.600000e+01  \n",
       "tem_med_emp               0.00       0.0      13.00  3.690000e+02  \n",
       "tem_pri_emp               0.00       0.0      24.00  4.680000e+02  "
      ]
     },
     "execution_count": 47,
     "metadata": {},
     "output_type": "execute_result"
    }
   ],
   "source": [
    "df_treino.describe().T"
   ]
  },
  {
   "cell_type": "markdown",
   "metadata": {},
   "source": [
    "### - Divisão em treino e teste"
   ]
  },
  {
   "cell_type": "code",
   "execution_count": 48,
   "metadata": {},
   "outputs": [],
   "source": [
    "y2 = df_treino['default']\n",
    "x2 = df_treino.drop(['default'], axis=1)"
   ]
  },
  {
   "cell_type": "code",
   "execution_count": 49,
   "metadata": {},
   "outputs": [
    {
     "data": {
      "text/plain": [
       "((93060, 20), (93060, 20), (93060,), (93060,))"
      ]
     },
     "execution_count": 49,
     "metadata": {},
     "output_type": "execute_result"
    }
   ],
   "source": [
    "xtreino, xteste, ytreino, yteste = train_test_split(x2, y2, train_size=0.5, random_state=123)\n",
    "xtreino.shape, xteste.shape, ytreino.shape, yteste.shape"
   ]
  },
  {
   "cell_type": "code",
   "execution_count": 50,
   "metadata": {},
   "outputs": [
    {
     "data": {
      "text/plain": [
       "0.21692456479690522"
      ]
     },
     "execution_count": 50,
     "metadata": {},
     "output_type": "execute_result"
    }
   ],
   "source": [
    "ytreino.mean()"
   ]
  },
  {
   "cell_type": "code",
   "execution_count": 51,
   "metadata": {},
   "outputs": [
    {
     "data": {
      "text/plain": [
       "0.5220774235388375"
      ]
     },
     "execution_count": 51,
     "metadata": {},
     "output_type": "execute_result"
    }
   ],
   "source": [
    "baseline = np.ones(xteste.shape[0])*ytreino.mean()\n",
    "log_loss(yteste, baseline)"
   ]
  },
  {
   "cell_type": "markdown",
   "metadata": {},
   "source": [
    "## Random Forest com as 20 variáveis selecionadas com KBest anteriormente"
   ]
  },
  {
   "cell_type": "code",
   "execution_count": 52,
   "metadata": {},
   "outputs": [
    {
     "name": "stdout",
     "output_type": "stream",
     "text": [
      "| roc = 0.621 | gini = 0.242 |\n",
      "0.5144726092490324\n",
      "CPU times: user 7min 45s, sys: 2.54 s, total: 7min 47s\n",
      "Wall time: 3min 57s\n"
     ]
    }
   ],
   "source": [
    "%%time\n",
    "\n",
    "modelo = RandomForestClassifier(n_estimators=1000,n_jobs=2,random_state = 123)\n",
    "modelo.fit(xtreino, ytreino)\n",
    "\n",
    "y_pred_proba = modelo.predict_proba(xteste)[:,1]\n",
    "\n",
    "gini = 2*roc_auc_score(yteste, y_pred_proba) - 1\n",
    "roc = roc_auc_score(yteste, y_pred_proba)\n",
    "\n",
    "y_pred_cat = modelo.predict(xteste)\n",
    "\n",
    "print(\"| roc = {} | gini = {} |\".format(round(roc, 3), round(gini, 3)))\n",
    "\n",
    "print(log_loss(yteste, y_pred_proba))"
   ]
  },
  {
   "cell_type": "markdown",
   "metadata": {},
   "source": [
    "###  - log_loss do modelo Random Forest Classifier deu ligeiramente abaixo do baseline\n",
    "\n",
    "### -  A baseline tem log_loss de 0.5220, ou seja, meu modelo deve ser capaz de minimizar a log_loss (modelo<0.5220)"
   ]
  },
  {
   "cell_type": "markdown",
   "metadata": {},
   "source": [
    "#### teoria sobre calibração de probabilidades\n",
    "https://scikit-learn.org/stable/modules/calibration.html"
   ]
  },
  {
   "cell_type": "code",
   "execution_count": 53,
   "metadata": {},
   "outputs": [
    {
     "data": {
      "text/plain": [
       "0.21692456479690522"
      ]
     },
     "execution_count": 53,
     "metadata": {},
     "output_type": "execute_result"
    }
   ],
   "source": [
    "# ocorrência de default = 1, ou seja, descumpriu pagamento em ytreino\n",
    "\n",
    "ytreino.mean()"
   ]
  },
  {
   "cell_type": "code",
   "execution_count": 54,
   "metadata": {},
   "outputs": [
    {
     "data": {
      "text/plain": [
       "0.2162153449387492"
      ]
     },
     "execution_count": 54,
     "metadata": {},
     "output_type": "execute_result"
    }
   ],
   "source": [
    "# ocorrência de default = 1, ou seja, descumpriu pagamento em yteste\n",
    "\n",
    "yteste.mean()"
   ]
  },
  {
   "cell_type": "markdown",
   "metadata": {},
   "source": [
    "## Regressão logística com a seleção de variáveis do KBEST"
   ]
  },
  {
   "cell_type": "code",
   "execution_count": 55,
   "metadata": {},
   "outputs": [],
   "source": [
    "from sklearn.linear_model import LogisticRegression"
   ]
  },
  {
   "cell_type": "code",
   "execution_count": 56,
   "metadata": {},
   "outputs": [
    {
     "data": {
      "text/plain": [
       "((93060, 20), (93060, 20), (93060,), (93060,))"
      ]
     },
     "execution_count": 56,
     "metadata": {},
     "output_type": "execute_result"
    }
   ],
   "source": [
    "y_rl = df_treino['default']\n",
    "x_rl = df_treino.drop(['default'], axis=1)\n",
    "\n",
    "xtreino_rl, xteste_rl, ytreino_rl, yteste_rl = train_test_split(x_rl, y_rl, train_size=0.5, random_state=321)\n",
    "xtreino_rl.shape, xteste_rl.shape, ytreino_rl.shape, yteste_rl.shape"
   ]
  },
  {
   "cell_type": "code",
   "execution_count": 57,
   "metadata": {},
   "outputs": [
    {
     "name": "stdout",
     "output_type": "stream",
     "text": [
      "| roc = 0.564 | gini = 0.129 |\n",
      "0.5181083252660371\n",
      "CPU times: user 9.1 s, sys: 4.24 s, total: 13.3 s\n",
      "Wall time: 3.74 s\n"
     ]
    }
   ],
   "source": [
    "%%time\n",
    "\n",
    "modelo_RL = LogisticRegression(max_iter = 10000, random_state = 321)\n",
    "\n",
    "modelo_RL.fit(xtreino_rl, ytreino_rl)\n",
    "\n",
    "y_p_proba = modelo_RL.predict_proba(xteste_rl)[:,1]\n",
    "y_p_cat = modelo_RL.predict(xteste_rl)\n",
    "\n",
    "gini_rl = 2*roc_auc_score(yteste_rl, y_p_proba) - 1\n",
    "roc_rl = roc_auc_score(yteste_rl, y_p_proba)\n",
    "\n",
    "\n",
    "print(\"| roc = {} | gini = {} |\".format(round(roc_rl, 3), round(gini_rl, 3)))\n",
    "\n",
    "print(log_loss(yteste_rl, y_p_proba))"
   ]
  },
  {
   "cell_type": "markdown",
   "metadata": {},
   "source": [
    "### -  log_loss do modelo Logistic Regression deu ligeiramente abaixo do baseline, porém o gini está abaixo do gini para Random Forest\n",
    "\n",
    "### -  A baseline tem log_loss de 0.5220, ou seja, meu modelo deve ser capaz de minimizar a log_loss (modelo<0.5220)"
   ]
  },
  {
   "cell_type": "markdown",
   "metadata": {},
   "source": [
    "### CONCLUSÃO"
   ]
  },
  {
   "cell_type": "raw",
   "metadata": {},
   "source": [
    "------------------------------------------------------------\n",
    "O melhor modelo dentre os acima testados foi realizar a seleção de variáveis (k=20) e utilizar o modelo Random forest Classifier.\n",
    "------------------------------------------------------------\n",
    "\n",
    "Métricas de Avaliação:\n",
    "---------------------------------------------------------\n",
    "| roc = 0.621 | gini = 0.242 |\n",
    "---------------------------------------------------------\n",
    "log_loss = 0.5144726092490324\n",
    "---------------------------------------------------------\n",
    "\n",
    "\n",
    "\n",
    "-----------------------------------------------------------\n",
    "O modelo teve o melhor desempenho tanto no gini quanto no log_loss em relação aos outros modelos. Sendo assim a escolha final."
   ]
  },
  {
   "cell_type": "code",
   "execution_count": null,
   "metadata": {},
   "outputs": [],
   "source": []
  }
 ],
 "metadata": {
  "kernelspec": {
   "display_name": "Python 3",
   "language": "python",
   "name": "python3"
  },
  "language_info": {
   "codemirror_mode": {
    "name": "ipython",
    "version": 3
   },
   "file_extension": ".py",
   "mimetype": "text/x-python",
   "name": "python",
   "nbconvert_exporter": "python",
   "pygments_lexer": "ipython3",
   "version": "3.7.3"
  }
 },
 "nbformat": 4,
 "nbformat_minor": 2
}
